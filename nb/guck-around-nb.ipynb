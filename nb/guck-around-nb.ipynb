{
 "cells": [
  {
   "cell_type": "code",
   "execution_count": 14,
   "id": "dc9ebd7c-ed95-4349-b6f9-80f66380e2a3",
   "metadata": {
    "tags": []
   },
   "outputs": [],
   "source": [
    "import sys\n",
    "sys.path.insert(0, '../src')"
   ]
  },
  {
   "cell_type": "code",
   "execution_count": 15,
   "id": "651214d5-38cc-4534-b7aa-86d605d73042",
   "metadata": {
    "tags": []
   },
   "outputs": [],
   "source": [
    "from star_party_open_check import check_observatory_status"
   ]
  },
  {
   "cell_type": "code",
   "execution_count": 16,
   "id": "0ce7ec25-3cbf-410a-9e30-c0583b9d39e1",
   "metadata": {
    "tags": []
   },
   "outputs": [
    {
     "name": "stdout",
     "output_type": "stream",
     "text": [
      "OBSERVATORY STATUS: We will be open this Wednesday night at 7pm!\n"
     ]
    }
   ],
   "source": [
    "observatory_url = \"https://observatory.astro.utah.edu/\"\n",
    "status = check_observatory_status(observatory_url)\n",
    "print(status)\n",
    "\n"
   ]
  },
  {
   "cell_type": "code",
   "execution_count": 17,
   "id": "3918d1d6-298d-4192-86de-349f69530d01",
   "metadata": {
    "tags": []
   },
   "outputs": [
    {
     "data": {
      "text/plain": [
       "'OBSERVATORY STATUS: We will be open this Wednesday night at 7pm!'"
      ]
     },
     "execution_count": 17,
     "metadata": {},
     "output_type": "execute_result"
    }
   ],
   "source": [
    "status"
   ]
  },
  {
   "cell_type": "code",
   "execution_count": 19,
   "id": "481bf9ff-ceea-4639-90f4-e016d3f9f749",
   "metadata": {
    "tags": []
   },
   "outputs": [
    {
     "data": {
      "text/plain": [
       "'observatory status: we will be open this wednesday night at 7pm!'"
      ]
     },
     "execution_count": 19,
     "metadata": {},
     "output_type": "execute_result"
    }
   ],
   "source": [
    "status.lower()"
   ]
  },
  {
   "cell_type": "code",
   "execution_count": 23,
   "id": "37ef65f7-0fd7-447a-8c72-2c5d991d09b2",
   "metadata": {
    "tags": []
   },
   "outputs": [
    {
     "name": "stdout",
     "output_type": "stream",
     "text": [
      "/Users/adrian/Repos/github/stellar-signal/notebooks\n"
     ]
    }
   ],
   "source": [
    "!pwd"
   ]
  },
  {
   "cell_type": "markdown",
   "id": "526bf398-7c08-481a-8d62-17a79e81f0c1",
   "metadata": {},
   "source": [
    "### I AM AJ\n",
    "- I am cool\n",
    "- but also weird"
   ]
  },
  {
   "cell_type": "code",
   "execution_count": null,
   "id": "2d776f0d-9b50-47c4-af72-5fdd5ddb67c1",
   "metadata": {},
   "outputs": [],
   "source": []
  }
 ],
 "metadata": {
  "kernelspec": {
   "display_name": "Python 3 (ipykernel)",
   "language": "python",
   "name": "python3"
  },
  "language_info": {
   "codemirror_mode": {
    "name": "ipython",
    "version": 3
   },
   "file_extension": ".py",
   "mimetype": "text/x-python",
   "name": "python",
   "nbconvert_exporter": "python",
   "pygments_lexer": "ipython3",
   "version": "3.9.18"
  }
 },
 "nbformat": 4,
 "nbformat_minor": 5
}
